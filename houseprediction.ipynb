{
  "nbformat": 4,
  "nbformat_minor": 0,
  "metadata": {
    "colab": {
      "name": "houseprediction.ipynb",
      "provenance": [],
      "collapsed_sections": [],
      "authorship_tag": "ABX9TyMT9bABnbqv/WSnfdo/RrqW",
      "include_colab_link": true
    },
    "kernelspec": {
      "name": "python3",
      "display_name": "Python 3"
    },
    "language_info": {
      "name": "python"
    }
  },
  "cells": [
    {
      "cell_type": "markdown",
      "metadata": {
        "id": "view-in-github",
        "colab_type": "text"
      },
      "source": [
        "<a href=\"https://colab.research.google.com/github/ArbazkhanPathan/Arbaz/blob/main/houseprediction.ipynb\" target=\"_parent\"><img src=\"https://colab.research.google.com/assets/colab-badge.svg\" alt=\"Open In Colab\"/></a>"
      ]
    },
    {
      "cell_type": "code",
      "metadata": {
        "id": "qyaUG8LtykNU"
      },
      "source": [
        "#ML Library\n",
        "import sklearn\n",
        "from sklearn.linear_model import LinearRegression\n",
        "\n"
      ],
      "execution_count": 1,
      "outputs": []
    },
    {
      "cell_type": "code",
      "metadata": {
        "id": "PsVkVtxKy7jz"
      },
      "source": [
        "#predecting house prices\n",
        "#features : size in square feets, number of rooms, number bed rooms, number of bathrooms.\n",
        "data = [[100, 4, 3, 3], [50, 2, 1, 1], [75, 2, 1, 1], [150, 2, 5, 5], [200, 8, 6, 6]]\n",
        "# labels: price of the house in 10000 rupees\n",
        "labels = [10000, 5000, 7500, 15000, 20000]"
      ],
      "execution_count": 2,
      "outputs": []
    },
    {
      "cell_type": "code",
      "metadata": {
        "id": "l7JmtV66zWpV"
      },
      "source": [
        "# Linear regression\n",
        "lr = LinearRegression(normalize=True)"
      ],
      "execution_count": 3,
      "outputs": []
    },
    {
      "cell_type": "code",
      "metadata": {
        "colab": {
          "base_uri": "https://localhost:8080/"
        },
        "id": "fflxkqQ5zrZg",
        "outputId": "fc0c04d6-7e63-48d6-b74e-2002b32904e5"
      },
      "source": [
        "# Linear Regression training\n",
        "lr.fit(data, labels)\n",
        "\n",
        "LinearRegression(copy_X=True, fit_intercept=True, n_jobs=None, normalize=True)\n"
      ],
      "execution_count": 4,
      "outputs": [
        {
          "output_type": "execute_result",
          "data": {
            "text/plain": [
              "LinearRegression(copy_X=True, fit_intercept=True, n_jobs=None, normalize=True)"
            ]
          },
          "metadata": {
            "tags": []
          },
          "execution_count": 4
        }
      ]
    },
    {
      "cell_type": "code",
      "metadata": {
        "colab": {
          "base_uri": "https://localhost:8080/"
        },
        "id": "Xw8Ul-WH0NkU",
        "outputId": "790795f5-4fc9-44ec-8e95-192a37f0fd00"
      },
      "source": [
        "# Linear Regression testing \n",
        "print('The price of the house using LinearRegression is : ', lr.predict([[175, 9, 7, 7]]))\n"
      ],
      "execution_count": 5,
      "outputs": [
        {
          "output_type": "stream",
          "text": [
            "The price of the house using LinearRegression is :  [17500.]\n"
          ],
          "name": "stdout"
        }
      ]
    }
  ]
}